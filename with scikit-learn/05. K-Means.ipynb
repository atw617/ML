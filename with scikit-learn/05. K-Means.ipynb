{
 "cells": [
  {
   "cell_type": "markdown",
   "id": "ca20b18e",
   "metadata": {},
   "source": [
    "# 5. K-Means\n",
    "#### 기본 중심점을 임의로 설정 하고 그걸 기준으로 군집화 후 중심점을 군집 내 중심점 이동을 계속 반복하여 움직이지 않는 중심점을 잡음 이렇게 cluster(군집)를 생성"
   ]
  },
  {
   "cell_type": "markdown",
   "id": "12e673e6-060e-4f9e-9772-23eca713b187",
   "metadata": {},
   "source": [
    "### ☆ Random Initializaion Trap (중심점 무작위 선정 문제)\n",
    "#### 만약 중심점의 위치를 너무 잘못 잡게 되면 군집 형성이 이상하게 설정 될 수 있음\n",
    "#### 이를 위한 K-Means++ : 중심점 하나를 설정했을 때, 이 중심점과 가장 먼 거리의 데이터를 다음 중심점으로 설정"
   ]
  },
  {
   "cell_type": "markdown",
   "id": "88043077-275b-4399-9d00-1e936c49f004",
   "metadata": {},
   "source": [
    "Elbow Method : K 개수의 설정 방법\n",
    "K의 개수를 늘려갔을 때 중심점과의 평균 거리가 완만해지는 시점의 K값을 최적의 K값으로 지정"
   ]
  },
  {
   "cell_type": "markdown",
   "id": "4d55c305-345c-4d64-ad0e-f391abca9094",
   "metadata": {},
   "source": [
    "Euclidean Distance(유클리드 거리) = 피타고라스 정의를 이용한 거리 계산\n",
    "Manhattan Distance(맨하튼 거리) = 격자를 두어 직각으로 이동하는 방식으로 거리 계산\n",
    "Cosine Similarity(코사인 유사) = 데이터간의 각도를 0,0 으로부터 계산하여 cosine 각도가 작은 부분을 유사도가 높다고 판단"
   ]
  },
  {
   "cell_type": "code",
   "execution_count": 1,
   "id": "aaa1099f",
   "metadata": {},
   "outputs": [],
   "source": [
    "import os # 경고 대응\n",
    "os.environ['OMP_NUM_THREADS'] = '1' "
   ]
  },
  {
   "cell_type": "code",
   "execution_count": 2,
   "id": "9f54e7f8",
   "metadata": {},
   "outputs": [],
   "source": [
    "import numpy as np\n",
    "import matplotlib.pyplot as plt\n",
    "import pandas as pd"
   ]
  },
  {
   "cell_type": "code",
   "execution_count": 5,
   "id": "abcec6f8",
   "metadata": {},
   "outputs": [
    {
     "data": {
      "text/html": [
       "<div>\n",
       "<style scoped>\n",
       "    .dataframe tbody tr th:only-of-type {\n",
       "        vertical-align: middle;\n",
       "    }\n",
       "\n",
       "    .dataframe tbody tr th {\n",
       "        vertical-align: top;\n",
       "    }\n",
       "\n",
       "    .dataframe thead th {\n",
       "        text-align: right;\n",
       "    }\n",
       "</style>\n",
       "<table border=\"1\" class=\"dataframe\">\n",
       "  <thead>\n",
       "    <tr style=\"text-align: right;\">\n",
       "      <th></th>\n",
       "      <th>hour</th>\n",
       "      <th>score</th>\n",
       "    </tr>\n",
       "  </thead>\n",
       "  <tbody>\n",
       "    <tr>\n",
       "      <th>0</th>\n",
       "      <td>7.33</td>\n",
       "      <td>73</td>\n",
       "    </tr>\n",
       "    <tr>\n",
       "      <th>1</th>\n",
       "      <td>3.71</td>\n",
       "      <td>55</td>\n",
       "    </tr>\n",
       "    <tr>\n",
       "      <th>2</th>\n",
       "      <td>3.43</td>\n",
       "      <td>55</td>\n",
       "    </tr>\n",
       "    <tr>\n",
       "      <th>3</th>\n",
       "      <td>3.06</td>\n",
       "      <td>89</td>\n",
       "    </tr>\n",
       "    <tr>\n",
       "      <th>4</th>\n",
       "      <td>3.33</td>\n",
       "      <td>79</td>\n",
       "    </tr>\n",
       "  </tbody>\n",
       "</table>\n",
       "</div>"
      ],
      "text/plain": [
       "   hour  score\n",
       "0  7.33     73\n",
       "1  3.71     55\n",
       "2  3.43     55\n",
       "3  3.06     89\n",
       "4  3.33     79"
      ]
     },
     "execution_count": 5,
     "metadata": {},
     "output_type": "execute_result"
    }
   ],
   "source": [
    "dataset = pd.read_csv('data/KMeansData.csv')\n",
    "dataset[:5]"
   ]
  },
  {
   "cell_type": "code",
   "execution_count": 33,
   "id": "10483b6b",
   "metadata": {},
   "outputs": [
    {
     "data": {
      "text/plain": [
       "array([[ 7.33, 73.  ],\n",
       "       [ 3.71, 55.  ],\n",
       "       [ 3.43, 55.  ],\n",
       "       [ 3.06, 89.  ],\n",
       "       [ 3.33, 79.  ]])"
      ]
     },
     "execution_count": 33,
     "metadata": {},
     "output_type": "execute_result"
    }
   ],
   "source": [
    "X = dataset.iloc[:, :].values\n",
    "# X = dataset.values 상관 없음\n",
    "# X = dataset.to_numpy() # 공식 홈페이지 권장\n",
    "X[:5]"
   ]
  },
  {
   "cell_type": "markdown",
   "id": "544abeef",
   "metadata": {},
   "source": [
    "### 데이터 시각화 (전체 데이터 분포 확인)"
   ]
  },
  {
   "cell_type": "code",
   "execution_count": 16,
   "id": "00d0e387",
   "metadata": {},
   "outputs": [
    {
     "data": {
      "image/png": "[encoded data removed]",
      "text/plain": [
       "<Figure size 432x288 with 1 Axes>"
      ]
     },
     "metadata": {
      "needs_background": "light"
     },
     "output_type": "display_data"
    }
   ],
   "source": [
    "plt.scatter(dataset.hour, dataset.score, ) # x축 : hour, y축 : score\n",
    "plt.title('Score by hours')\n",
    "plt.xlabel('hours')\n",
    "plt.ylabel('score')\n",
    "plt.show()"
   ]
  },
  {
   "cell_type": "markdown",
   "id": "fc4d0a56",
   "metadata": {},
   "source": [
    "### 데이터 시각화 (축 범위 통일)\n",
    "##### 실제 거리를 따지기 힘들기 때문에 x축과 y축의 크기를 동일하게 설정"
   ]
  },
  {
   "cell_type": "code",
   "execution_count": 18,
   "id": "83e6fd61",
   "metadata": {},
   "outputs": [
    {
     "data": {
      "image/png": "[encoded data removed]",
      "text/plain": [
       "<Figure size 432x288 with 1 Axes>"
      ]
     },
     "metadata": {
      "needs_background": "light"
     },
     "output_type": "display_data"
    }
   ],
   "source": [
    "plt.scatter(X[:, 0], X[:, 1]) # x축 : hour, y축 : score\n",
    "plt.title('Score by hours')\n",
    "plt.xlabel('hours')\n",
    "plt.xlim(0, 100)\n",
    "plt.ylabel('score')\n",
    "plt.ylim(0, 100)\n",
    "plt.show()"
   ]
  },
  {
   "cell_type": "markdown",
   "id": "686d77b6",
   "metadata": {},
   "source": [
    "### 피처 스케일링 (Feature Scaling)"
   ]
  },
  {
   "cell_type": "code",
   "execution_count": 36,
   "id": "1c15de4d",
   "metadata": {},
   "outputs": [
    {
     "data": {
      "text/plain": [
       "array([[ 0.68729921,  0.73538376],\n",
       "       [-0.66687438,  0.04198891],\n",
       "       [-0.77161709,  0.04198891],\n",
       "       [-0.9100271 ,  1.35173473],\n",
       "       [-0.8090252 ,  0.96651537]])"
      ]
     },
     "execution_count": 36,
     "metadata": {},
     "output_type": "execute_result"
    }
   ],
   "source": [
    "from sklearn.preprocessing import StandardScaler\n",
    "sc = StandardScaler()\n",
    "X = sc.fit_transform(X)\n",
    "X[:5]\n",
    "# 평균이 0, 분산이 1인 값으로 변환(표준화->가우시안 정규 분포를 따름)"
   ]
  },
  {
   "cell_type": "markdown",
   "id": "a8478662",
   "metadata": {},
   "source": [
    "### 데이터 시각화 (스케일링된 데이터)"
   ]
  },
  {
   "cell_type": "code",
   "execution_count": 37,
   "id": "81c66dd3",
   "metadata": {},
   "outputs": [
    {
     "data": {
      "image/png": "[encoded data removed]",
      "text/plain": [
       "<Figure size 360x360 with 1 Axes>"
      ]
     },
     "metadata": {
      "needs_background": "light"
     },
     "output_type": "display_data"
    }
   ],
   "source": [
    "plt.figure(figsize=(5, 5))\n",
    "plt.scatter(X[:, 0], X[:, 1])\n",
    "plt.title('Score by hours')\n",
    "plt.xlabel('hours')\n",
    "plt.ylabel('score')\n",
    "plt.show()\n",
    "#애초에 비지도 학습이므로 X값을 변경하여 범위만 따지도록 해도 됨"
   ]
  },
  {
   "cell_type": "markdown",
   "id": "391e1786",
   "metadata": {},
   "source": [
    "### 최적의 K 값 찾기 (엘보우 방식 Elbow Method)"
   ]
  },
  {
   "cell_type": "code",
   "execution_count": 38,
   "id": "046fb43d",
   "metadata": {},
   "outputs": [
    {
     "data": {
      "image/png": "[encoded data removed]",
      "text/plain": [
       "<Figure size 432x288 with 1 Axes>"
      ]
     },
     "metadata": {
      "needs_background": "light"
     },
     "output_type": "display_data"
    }
   ],
   "source": [
    "from sklearn.cluster import KMeans\n",
    "inertia_list = []\n",
    "for i in range(1, 11):\n",
    "    kmeans = KMeans(n_clusters=i, init='k-means++', random_state=0)\n",
    "    kmeans.fit(X)\n",
    "    inertia_list.append(kmeans.inertia_) # 각 지점으로부터 클러스터 중심(centroid) 까지의 거리의 제곱의 합\n",
    "plt.plot(range(1, 11), inertia_list)\n",
    "plt.title('Elbow Method')\n",
    "plt.xlabel('n_custers')\n",
    "plt.ylabel('inertia')\n",
    "plt.show()"
   ]
  },
  {
   "cell_type": "markdown",
   "id": "0c3a84fe",
   "metadata": {},
   "source": [
    "### 최적의 K (4) 값으로 KMeans 학습"
   ]
  },
  {
   "cell_type": "code",
   "execution_count": 39,
   "id": "6f4ca565",
   "metadata": {},
   "outputs": [],
   "source": [
    "K = 4 # 최적의 K값"
   ]
  },
  {
   "cell_type": "code",
   "execution_count": 45,
   "id": "3d85442d",
   "metadata": {},
   "outputs": [],
   "source": [
    "kmeans = KMeans(n_clusters=K, random_state=0)\n",
    "# kmeans.fit(X)\n",
    "y_kmeans = kmeans.fit_predict(X)\n",
    "# 최적의 K로 X를 학습시킴 + 어던 군집에 어떤 데이터가 들어가는지까지 확인 가능(fit_predict)"
   ]
  },
  {
   "cell_type": "code",
   "execution_count": 46,
   "id": "c553775f",
   "metadata": {},
   "outputs": [
    {
     "data": {
      "text/plain": [
       "array([2, 3, 3, 0, 0, 1, 1, 0, 2, 0, 0, 3, 1, 3, 3, 0, 1, 2, 3, 0, 1, 0,\n",
       "       3, 1, 2, 2, 3, 3, 3, 3, 1, 1, 3, 0, 2, 2, 3, 0, 0, 0, 3, 1, 2, 3,\n",
       "       3, 2, 1, 0, 1, 1, 2, 0, 1, 1, 0, 0, 0, 0, 3, 1, 1, 2, 2, 2, 2, 1,\n",
       "       1, 0, 1, 2, 3, 2, 2, 2, 3, 3, 3, 3, 0, 2, 1, 2, 1, 1, 2, 0, 3, 1,\n",
       "       2, 3, 0, 1, 0, 2, 3, 2, 2, 0, 1, 3])"
      ]
     },
     "execution_count": 46,
     "metadata": {},
     "output_type": "execute_result"
    }
   ],
   "source": [
    "y_kmeans"
   ]
  },
  {
   "cell_type": "markdown",
   "id": "735d4b13",
   "metadata": {},
   "source": [
    "### 데이터 시각화 (최적의 K)"
   ]
  },
  {
   "cell_type": "code",
   "execution_count": 63,
   "id": "abf39216",
   "metadata": {},
   "outputs": [
    {
     "data": {
      "text/plain": [
       "array([[-0.57163957,  0.85415973],\n",
       "       [ 0.8837666 , -1.26929779],\n",
       "       [ 0.94107583,  0.93569782],\n",
       "       [-1.22698889, -0.46768593]])"
      ]
     },
     "execution_count": 63,
     "metadata": {},
     "output_type": "execute_result"
    }
   ],
   "source": [
    "centers = kmeans.cluster_centers_ # 클러스터의 중심점 (centroid) 좌표\n",
    "centers"
   ]
  },
  {
   "cell_type": "code",
   "execution_count": 103,
   "id": "39a0fecf",
   "metadata": {},
   "outputs": [
    {
     "data": {
      "image/png": "[encoded data removed]",
      "text/plain": [
       "<Figure size 432x288 with 1 Axes>"
      ]
     },
     "metadata": {
      "needs_background": "light"
     },
     "output_type": "display_data"
    }
   ],
   "source": [
    "for cluster in range(K):\n",
    "    plt.scatter(X[y_kmeans == cluster, 0], X[y_kmeans == cluster, 1], s=100, edgecolor='black')\n",
    "    plt.scatter(centers[cluster, 0], centers[cluster, 1], s=300, edgecolor='black', color='yellow', marker='s')\n",
    "    plt.text(centers[cluster,0], centers[cluster, 1], cluster, va='center', ha='center')\n",
    "# X[kmeans가 0인거의 hour값]\n",
    "\n",
    "plt.title('Score by hours')\n",
    "plt.xlabel('hour')\n",
    "plt.ylabel('score')\n",
    "plt.show()"
   ]
  },
  {
   "cell_type": "markdown",
   "id": "74c5828d",
   "metadata": {},
   "source": [
    "### 데이터 시각화 (스케일링 원복)"
   ]
  },
  {
   "cell_type": "code",
   "execution_count": 105,
   "id": "4638f2ff",
   "metadata": {},
   "outputs": [],
   "source": [
    "X_org = sc.inverse_transform(X) # Feature Scalling 된 데이터를 다시 원복"
   ]
  },
  {
   "cell_type": "code",
   "execution_count": 106,
   "id": "7d03ca36",
   "metadata": {},
   "outputs": [],
   "source": [
    "centers_org = sc.inverse_transform(centers)"
   ]
  },
  {
   "cell_type": "code",
   "execution_count": 107,
   "id": "6849d7c9",
   "metadata": {},
   "outputs": [
    {
     "data": {
      "image/png": "[encoded data removed]",
      "text/plain": [
       "<Figure size 432x288 with 1 Axes>"
      ]
     },
     "metadata": {
      "needs_background": "light"
     },
     "output_type": "display_data"
    }
   ],
   "source": [
    "for cluster in range(K):\n",
    "    plt.scatter(X_org[y_kmeans == cluster, 0], X_org[y_kmeans == cluster, 1], s=100, edgecolor='black')\n",
    "    plt.scatter(centers_org[cluster, 0], centers_org[cluster, 1], s=300, edgecolor='black', color='yellow', marker='s')\n",
    "    plt.text(centers_org[cluster,0], centers_org[cluster, 1], cluster, va='center', ha='center')\n",
    "# X[kmeans가 0인거의 hour값]\n",
    "\n",
    "plt.title('Score by hours')\n",
    "plt.xlabel('hour')\n",
    "plt.ylabel('score')\n",
    "plt.show()"
   ]
  },
  {
   "cell_type": "code",
   "execution_count": null,
   "id": "d9ccedf3-bc43-467c-a163-45202c060218",
   "metadata": {},
   "outputs": [],
   "source": []
  },
  {
   "cell_type": "code",
   "execution_count": null,
   "id": "3d530df8-f84d-405f-84dd-fd4c7e851c11",
   "metadata": {},
   "outputs": [],
   "source": []
  },
  {
   "cell_type": "code",
   "execution_count": null,
   "id": "67834bde-1322-41d5-8c60-7848ff185304",
   "metadata": {},
   "outputs": [],
   "source": []
  }
 ],
 "metadata": {
  "kernelspec": {
   "display_name": "Python 3 (ipykernel)",
   "language": "python",
   "name": "python3"
  },
  "language_info": {
   "codemirror_mode": {
    "name": "ipython",
    "version": 3
   },
   "file_extension": ".py",
   "mimetype": "text/x-python",
   "name": "python",
   "nbconvert_exporter": "python",
   "pygments_lexer": "ipython3",
   "version": "3.9.12"
  }
 },
 "nbformat": 4,
 "nbformat_minor": 5
}
