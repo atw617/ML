{
 "cells": [
  {
   "cell_type": "markdown",
   "id": "1a4f7f01",
   "metadata": {},
   "source": [
    "# 6. Quiz"
   ]
  },
  {
   "cell_type": "markdown",
   "id": "df3daaec",
   "metadata": {},
   "source": [
    "## 어느 결혼식장에서 피로연의 식수 인원을 올바르게 예측하지 못하여 버려지는 음식으로 고민이 많다고 합니다. 현재까지 진행된 결혼식에 대한 결혼식 참석 인원과 그 중에서 식사를 하는 인원의 데이터가 제공될 때, 아래 각 문항에 대한 코드를 작성하시오."
   ]
  },
  {
   "cell_type": "markdown",
   "id": "40f9a0bb",
   "metadata": {},
   "source": [
    "주의) 사전 작업으로 아래 코드 셀을 먼저 실행하시오"
   ]
  },
  {
   "cell_type": "code",
   "execution_count": 2,
   "id": "ca571038",
   "metadata": {},
   "outputs": [],
   "source": [
    "import numpy as np\n",
    "import matplotlib.pyplot as plt\n",
    "import pandas as pd"
   ]
  },
  {
   "cell_type": "markdown",
   "id": "91bcd3cd",
   "metadata": {},
   "source": [
    "## 1) QuizData.csv 파일로부터 데이터를 읽어와서 결혼식 참석 인원(total), 식수 인원(reception)을 각각의 변수로 저장하시오."
   ]
  },
  {
   "cell_type": "code",
   "execution_count": 4,
   "id": "59d4f7b0",
   "metadata": {},
   "outputs": [],
   "source": [
    "dataset = pd.read_csv('data/QuizData.csv')"
   ]
  },
  {
   "cell_type": "code",
   "execution_count": 72,
   "id": "df8c0750",
   "metadata": {},
   "outputs": [
    {
     "data": {
      "text/html": [
       "<div>\n",
       "<style scoped>\n",
       "    .dataframe tbody tr th:only-of-type {\n",
       "        vertical-align: middle;\n",
       "    }\n",
       "\n",
       "    .dataframe tbody tr th {\n",
       "        vertical-align: top;\n",
       "    }\n",
       "\n",
       "    .dataframe thead th {\n",
       "        text-align: right;\n",
       "    }\n",
       "</style>\n",
       "<table border=\"1\" class=\"dataframe\">\n",
       "  <thead>\n",
       "    <tr style=\"text-align: right;\">\n",
       "      <th></th>\n",
       "      <th>total</th>\n",
       "      <th>reception</th>\n",
       "    </tr>\n",
       "  </thead>\n",
       "  <tbody>\n",
       "    <tr>\n",
       "      <th>0</th>\n",
       "      <td>118</td>\n",
       "      <td>62</td>\n",
       "    </tr>\n",
       "    <tr>\n",
       "      <th>1</th>\n",
       "      <td>253</td>\n",
       "      <td>148</td>\n",
       "    </tr>\n",
       "    <tr>\n",
       "      <th>2</th>\n",
       "      <td>320</td>\n",
       "      <td>201</td>\n",
       "    </tr>\n",
       "    <tr>\n",
       "      <th>3</th>\n",
       "      <td>94</td>\n",
       "      <td>80</td>\n",
       "    </tr>\n",
       "    <tr>\n",
       "      <th>4</th>\n",
       "      <td>155</td>\n",
       "      <td>92</td>\n",
       "    </tr>\n",
       "  </tbody>\n",
       "</table>\n",
       "</div>"
      ],
      "text/plain": [
       "   total  reception\n",
       "0    118         62\n",
       "1    253        148\n",
       "2    320        201\n",
       "3     94         80\n",
       "4    155         92"
      ]
     },
     "execution_count": 72,
     "metadata": {},
     "output_type": "execute_result"
    }
   ],
   "source": [
    "dataset.head()"
   ]
  },
  {
   "cell_type": "code",
   "execution_count": 59,
   "id": "ec664659",
   "metadata": {},
   "outputs": [
    {
     "data": {
      "text/plain": [
       "(array([[118],\n",
       "        [253],\n",
       "        [320],\n",
       "        [ 94],\n",
       "        [155],\n",
       "        [188],\n",
       "        [201],\n",
       "        [338],\n",
       "        [186],\n",
       "        [183],\n",
       "        [223],\n",
       "        [392],\n",
       "        [ 86],\n",
       "        [112],\n",
       "        [129],\n",
       "        [223],\n",
       "        [288],\n",
       "        [262],\n",
       "        [143],\n",
       "        [179]], dtype=int64),\n",
       " array([ 62, 148, 201,  80,  92, 131, 147, 187, 124, 152, 143, 199,  58,\n",
       "         68,  76, 149, 152, 183,  88, 101], dtype=int64))"
      ]
     },
     "execution_count": 59,
     "metadata": {},
     "output_type": "execute_result"
    }
   ],
   "source": [
    "total = dataset.iloc[:, :-1].values\n",
    "reception = dataset.iloc[:, -1].values\n",
    "\n",
    "total, reception"
   ]
  },
  {
   "cell_type": "markdown",
   "id": "50d91935",
   "metadata": {},
   "source": [
    "## 2) 전체 데이터를 훈련 세트와 테스트 세트로 분리하시오. 이 때 비율은 75 : 25 로 합니다.\n",
    "\n",
    "(단, random_state = 0 으로 설정)"
   ]
  },
  {
   "cell_type": "code",
   "execution_count": 60,
   "id": "9baa751b",
   "metadata": {},
   "outputs": [],
   "source": [
    "from sklearn.model_selection import train_test_split\n",
    "total_train, total_test, reception_train, reception_test = train_test_split(total, reception, test_size=0.25, random_state=0)"
   ]
  },
  {
   "cell_type": "markdown",
   "id": "6a37e520",
   "metadata": {},
   "source": [
    "## 3) 훈련 세트를 이용하여 단순 선형 회귀 (Simple Linear Regression) 모델을 생성하시오."
   ]
  },
  {
   "cell_type": "code",
   "execution_count": 73,
   "id": "6d03771e",
   "metadata": {},
   "outputs": [
    {
     "data": {
      "text/plain": [
       "LinearRegression()"
      ]
     },
     "execution_count": 73,
     "metadata": {},
     "output_type": "execute_result"
    }
   ],
   "source": [
    "from sklearn.linear_model import LinearRegression\n",
    "reg = LinearRegression()\n",
    "reg.fit(total_train, reception_train)"
   ]
  },
  {
   "cell_type": "markdown",
   "id": "d8cf54dd",
   "metadata": {},
   "source": [
    "## 4) 데이터 시각화 (훈련 세트) 코드를 작성하시오."
   ]
  },
  {
   "cell_type": "code",
   "execution_count": 74,
   "id": "8be1486e",
   "metadata": {},
   "outputs": [
    {
     "data": {
      "image/png": "[encoded data removed]",
      "text/plain": [
       "<Figure size 432x288 with 1 Axes>"
      ]
     },
     "metadata": {
      "needs_background": "light"
     },
     "output_type": "display_data"
    }
   ],
   "source": [
    "plt.scatter(total_train, reception_train, color='blue')\n",
    "plt.plot(total_train, reg.predict(total_train), color='green')\n",
    "plt.title('Wedding reception (train)')\n",
    "plt.xlabel('total')\n",
    "plt.ylabel('reception')\n",
    "plt.show()"
   ]
  },
  {
   "cell_type": "markdown",
   "id": "ecb19f49",
   "metadata": {},
   "source": [
    "## 5) 데이터 시각화 (테스트 세트) 코드를 작성하시오."
   ]
  },
  {
   "cell_type": "code",
   "execution_count": 75,
   "id": "823c6cac-84bb-4ff3-99f3-0a3dd3d426eb",
   "metadata": {},
   "outputs": [
    {
     "data": {
      "image/png": "[encoded data removed]",
      "text/plain": [
       "<Figure size 432x288 with 1 Axes>"
      ]
     },
     "metadata": {
      "needs_background": "light"
     },
     "output_type": "display_data"
    }
   ],
   "source": [
    "plt.scatter(total_test, reception_test, color='blue')\n",
    "plt.plot(total_train, reg.predict(total_train), color='green')\n",
    "plt.title('Wedding reception (train)')\n",
    "plt.xlabel('total')\n",
    "plt.ylabel('reception')\n",
    "plt.show()"
   ]
  },
  {
   "cell_type": "markdown",
   "id": "f04a00f9",
   "metadata": {
    "tags": []
   },
   "source": [
    "## 6) 훈련 세트, 테스트 세트에 대해 각각 모델 평가 점수를 구하시오."
   ]
  },
  {
   "cell_type": "code",
   "execution_count": 80,
   "id": "439d0ce7",
   "metadata": {},
   "outputs": [
    {
     "data": {
      "text/plain": [
       "0.8707088403321211"
      ]
     },
     "execution_count": 80,
     "metadata": {},
     "output_type": "execute_result"
    }
   ],
   "source": [
    "reg.score(total_train, reception_train)"
   ]
  },
  {
   "cell_type": "code",
   "execution_count": 82,
   "id": "15db1087-7476-42d8-8198-d1f7492c6e4c",
   "metadata": {},
   "outputs": [
    {
     "data": {
      "text/plain": [
       "0.8634953212566615"
      ]
     },
     "execution_count": 82,
     "metadata": {},
     "output_type": "execute_result"
    }
   ],
   "source": [
    "reg.score(total_test, reception_test)"
   ]
  },
  {
   "cell_type": "markdown",
   "id": "ce329367",
   "metadata": {},
   "source": [
    "## 7) 결혼식 참석 인원이 300명일 때 예상되는 식수 인원을 구하시오."
   ]
  },
  {
   "cell_type": "code",
   "execution_count": 90,
   "id": "4b9b1f54",
   "metadata": {
    "scrolled": true
   },
   "outputs": [
    {
     "name": "stdout",
     "output_type": "stream",
     "text": [
      "결혼식 참석 인원 300명에 대한 예상 식수 인원은 177명입니다.\n"
     ]
    }
   ],
   "source": [
    "reg.predict([[300]])\n",
    "print('결혼식 참석 인원 300명에 대한 예상 식수 인원은 %i명입니다.' %np.around(reg.predict([[300]])))"
   ]
  }
 ],
 "metadata": {
  "kernelspec": {
   "display_name": "Python 3 (ipykernel)",
   "language": "python",
   "name": "python3"
  },
  "language_info": {
   "codemirror_mode": {
    "name": "ipython",
    "version": 3
   },
   "file_extension": ".py",
   "mimetype": "text/x-python",
   "name": "python",
   "nbconvert_exporter": "python",
   "pygments_lexer": "ipython3",
   "version": "3.9.12"
  }
 },
 "nbformat": 4,
 "nbformat_minor": 5
}
